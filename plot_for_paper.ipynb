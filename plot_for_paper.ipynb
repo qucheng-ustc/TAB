{
 "cells": [
  {
   "cell_type": "code",
   "execution_count": null,
   "metadata": {},
   "outputs": [],
   "source": [
    "from exp.plot import RecordPloter, LogPloter, Subplots\n",
    "import matplotlib\n",
    "import matplotlib.pyplot as plt\n",
    "config = {\n",
    "    'font.family':'Times New Roman',\n",
    "    'font.size': 18,\n",
    "    'axes.unicode_minus':False\n",
    "}\n",
    "plt.rcParams.update(config)\n",
    "print(matplotlib.matplotlib_fname())"
   ]
  },
  {
   "cell_type": "code",
   "execution_count": null,
   "metadata": {},
   "outputs": [],
   "source": [
    "cost_ploter = RecordPloter(\"/mnt/ssd/qucheng/ARRL/records/test_harmony_overhead\", debug=False)\n",
    "cost_ploter.set_params([\"[16,3200]\"])\n",
    "with cost_ploter.context(figure_kw=dict(figsize=(6,6)), tight_layout=None, kwargs=dict(elev=20, azim=25)):\n",
    "    with cost_ploter.context(save_kw=dict(fname='images/surface_actual_throughput.pdf', bbox_inches=matplotlib.transforms.Bbox([[0.2,0.8],[5.2,4.7]]))):\n",
    "        cost_ploter.plot_surface_actual_throughput(title=None)\n",
    "    with cost_ploter.context(save_kw=dict(fname='images/surface_tx_delay.pdf', bbox_inches=matplotlib.transforms.Bbox([[0.2,0.8],[5.2,4.7]]))):\n",
    "        cost_ploter.plot_surface_tx_delay(title=None)\n",
    "    with cost_ploter.context(save_kw=dict(fname='images/surface_local_graph_size.pdf', bbox_inches=matplotlib.transforms.Bbox([[0.2,0.8],[5.2,4.7]]))):\n",
    "        cost_ploter.plot_surface_local_graph_size(title=None)\n",
    "    with cost_ploter.context(save_kw=dict(fname='images/surface_partition_time.pdf', bbox_inches=matplotlib.transforms.Bbox([[0.2,0.8],[5.2,4.7]]))):\n",
    "        cost_ploter.plot_surface_partition_time(title=None)\n",
    "    with cost_ploter.context(save_kw=dict(fname='images/surface_state_migration_size.pdf', bbox_inches=matplotlib.transforms.Bbox([[0.2,0.8],[5.2,4.7]]))):\n",
    "        cost_ploter.plot_surface_state_migration_size(title=None)\n",
    "    with cost_ploter.context(save_kw=dict(fname='images/surface_allocation_table_size.pdf', bbox_inches=matplotlib.transforms.Bbox([[0.2,0.8],[5.2,4.7]]))):\n",
    "        cost_ploter.plot_surface_allocation_table_size(title=None)"
   ]
  },
  {
   "cell_type": "code",
   "execution_count": null,
   "metadata": {},
   "outputs": [],
   "source": [
    "logploter = LogPloter(\"/mnt/ssd/qucheng/ARRL/logs/test_stack.log\")\n",
    "with logploter.context(figure_kw=dict(figsize=(5.8,4.5)), save_kw=dict(fname='images/new_ve_ratio.pdf', bbox_inches='tight')):\n",
    "    logploter.plot_new_ve_ratio(key=(0,100),title=None,grid=dict(visible=True, linestyle=':'))\n",
    "with logploter.context(figure_kw=dict(figsize=(6.2,4.5)), save_kw=dict(fname='images/vpe_cost_and_coverage.pdf', bbox_inches='tight')):\n",
    "    logploter.plot_vpe_cost_and_coverage(key=100,title=None,grid=dict(visible=False))"
   ]
  },
  {
   "cell_type": "code",
   "execution_count": null,
   "metadata": {},
   "outputs": [],
   "source": [
    "ploter = RecordPloter(\"/mnt/ssd/qucheng/ARRL/records/test_harmony_performance\", debug=False)\n",
    "ploter.set_methods([\"TAB-5,5\",\"TAB-1,1\",\"Transformers\",\"Monoxide\"])\n",
    "ploter.rename = {\"TAB-5,5\":\"SwiftShard-5,5\", \"TAB-1,1\":\"SwiftShard-1,1\"}"
   ]
  },
  {
   "cell_type": "code",
   "execution_count": null,
   "metadata": {},
   "outputs": [],
   "source": [
    "with ploter.context(params=[\"[2,200]\",\"[4,400]\",\"[8,800]\",\"[16,1600]\",\"[32,3200]\"], figure_kw=dict(figsize=(7,4.5)), save_kw=dict(fname=\"images/plot_actual_throughput_50.pdf\", bbox_inches='tight')):\n",
    "    ploter.plot_actual_throughput(title=None, grid=dict(visible=True, axis='y', linestyle=':'))\n",
    "with ploter.context(params=[\"[2,300]\",\"[4,600]\",\"[8,1200]\",\"[16,2400]\",\"[32,4800]\"], figure_kw=dict(figsize=(7,4.5)), save_kw=dict(fname=\"images/plot_actual_throughput_75.pdf\", bbox_inches='tight')):\n",
    "    ploter.plot_actual_throughput(title=None, grid=dict(visible=True, axis='y', linestyle=':'))\n",
    "with ploter.context(params=[\"[2,400]\",\"[4,800]\",\"[8,1600]\",\"[16,3200]\",\"[32,6400]\"], figure_kw=dict(figsize=(7,4.5)), save_kw=dict(fname=\"images/plot_actual_throughput_100.pdf\", bbox_inches='tight')):\n",
    "    ploter.plot_actual_throughput(title=None, grid=dict(visible=True, axis='y', linestyle=':'))"
   ]
  },
  {
   "cell_type": "code",
   "execution_count": null,
   "metadata": {},
   "outputs": [],
   "source": [
    "with ploter.context(params=[\"[2,200]\",\"[4,400]\",\"[8,800]\",\"[16,1600]\",\"[32,3200]\"], figure_kw=dict(figsize=(7,4.5)), save_kw=dict(fname=\"images/plot_tx_delay_50.pdf\", bbox_inches='tight')):\n",
    "    ploter.plot_tx_delay(title=None, legend=dict(ncol=2), y_lim=dict(bottom=0,top=750), grid=dict(visible=True, axis='y', linestyle=':'))\n",
    "with ploter.context(params=[\"[2,300]\",\"[4,600]\",\"[8,1200]\",\"[16,2400]\",\"[32,4800]\"], figure_kw=dict(figsize=(7,4.5)), save_kw=dict(fname=\"images/plot_tx_delay_75.pdf\", bbox_inches='tight')):\n",
    "    ploter.plot_tx_delay(title=None, legend=dict(ncol=2), y_lim=dict(bottom=0,top=1750), grid=dict(visible=True, axis='y', linestyle=':'))\n",
    "with ploter.context(params=[\"[2,400]\",\"[4,800]\",\"[8,1600]\",\"[16,3200]\",\"[32,6400]\"], figure_kw=dict(figsize=(7,4.5)), save_kw=dict(fname=\"images/plot_tx_delay_100.pdf\", bbox_inches='tight')):\n",
    "    ploter.plot_tx_delay(title=None, legend=dict(ncol=2), y_lim=dict(bottom=0,top=3250), grid=dict(visible=True, axis='y', linestyle=':'))"
   ]
  },
  {
   "cell_type": "code",
   "execution_count": null,
   "metadata": {},
   "outputs": [],
   "source": [
    "with ploter.context(params=[\"[2,200]\",\"[4,400]\",\"[8,800]\",\"[16,1600]\",\"[32,3200]\"], figure_kw=dict(figsize=(7,4.5)), save_kw=dict(fname=\"images/plot_cross_rate_50.pdf\", bbox_inches='tight')):\n",
    "    ploter.plot_cross_rate(title=None, legend=dict(ncol=2), y_lim=dict(bottom=0, top=1.36), y_ticks=dict(ticks=(0.,0.25,0.5,0.75,1.), labels=('0%','25%','50%','75%','100%')), grid=dict(visible=True, axis='y', linestyle=':'))\n",
    "with ploter.context(params=[\"[2,300]\",\"[4,600]\",\"[8,1200]\",\"[16,2400]\",\"[32,4800]\"], figure_kw=dict(figsize=(7,4.5)), save_kw=dict(fname=\"images/plot_cross_rate_75.pdf\", bbox_inches='tight')):\n",
    "    ploter.plot_cross_rate(title=None, legend=dict(ncol=2), y_lim=dict(bottom=0, top=1.36), y_ticks=dict(ticks=(0.,0.25,0.5,0.75,1.), labels=('0%','25%','50%','75%','100%')), grid=dict(visible=True, axis='y', linestyle=':'))\n",
    "with ploter.context(params=[\"[2,400]\",\"[4,800]\",\"[8,1600]\",\"[16,3200]\",\"[32,6400]\"], figure_kw=dict(figsize=(7,4.5)), save_kw=dict(fname=\"images/plot_cross_rate_100.pdf\", bbox_inches='tight')):\n",
    "    ploter.plot_cross_rate(title=None, legend=dict(ncol=2), y_lim=dict(bottom=0, top=1.36), y_ticks=dict(ticks=(0.,0.25,0.5,0.75,1.), labels=('0%','25%','50%','75%','100%')), grid=dict(visible=True, axis='y', linestyle=':'))"
   ]
  },
  {
   "cell_type": "code",
   "execution_count": null,
   "metadata": {},
   "outputs": [],
   "source": [
    "with ploter.context(params=[\"[2,200]\",\"[4,400]\",\"[8,800]\",\"[16,1600]\",\"[32,3200]\"], figure_kw=dict(figsize=(7,4.5)), save_kw=dict(fname=\"images/plot_utility_50.pdf\", bbox_inches='tight')):\n",
    "    ploter.plot_utility(title=None, legend=dict(ncol=2), y_lim=dict(bottom=0, top=1.43), y_ticks=dict(ticks=(0.,0.25,0.5,0.75,1.), labels=('0%','25%','50%','75%','100%')), grid=dict(visible=True, axis='y', linestyle=':'))\n",
    "with ploter.context(params=[\"[2,300]\",\"[4,600]\",\"[8,1200]\",\"[16,2400]\",\"[32,4800]\"], figure_kw=dict(figsize=(7,4.5)), save_kw=dict(fname=\"images/plot_utility_75.pdf\", bbox_inches='tight')):\n",
    "    ploter.plot_utility(title=None, legend=dict(ncol=2), y_lim=dict(bottom=0, top=1.43), y_ticks=dict(ticks=(0.,0.25,0.5,0.75,1.), labels=('0%','25%','50%','75%','100%')), grid=dict(visible=True, axis='y', linestyle=':'))\n",
    "with ploter.context(params=[\"[2,400]\",\"[4,800]\",\"[8,1600]\",\"[16,3200]\",\"[32,6400]\"], figure_kw=dict(figsize=(7,4.5)), save_kw=dict(fname=\"images/plot_utility_100.pdf\", bbox_inches='tight')):\n",
    "    ploter.plot_utility(title=None, legend=dict(ncol=2), y_lim=dict(bottom=0, top=1.43), y_ticks=dict(ticks=(0.,0.25,0.5,0.75,1.), labels=('0%','25%','50%','75%','100%')), grid=dict(visible=True, axis='y', linestyle=':'))"
   ]
  },
  {
   "cell_type": "code",
   "execution_count": null,
   "metadata": {},
   "outputs": [],
   "source": [
    "from matplotlib.ticker import ScalarFormatter\n",
    "y_formatter = ScalarFormatter(useMathText=True)\n",
    "y_formatter.set_powerlimits((2,-2))\n",
    "with ploter.context(params=[\"[2,200]\",\"[4,400]\",\"[8,800]\",\"[16,1600]\",\"[32,3200]\"], figure_kw=dict(figsize=(7,4.5)), save_kw=dict(fname=\"images/plot_avg_queue_length_50.pdf\", bbox_inches='tight')):\n",
    "    ploter.plot_avg_queue_length(title=None, y_formatter=y_formatter, grid=dict(visible=True, axis='y', linestyle=':'))\n",
    "with ploter.context(params=[\"[2,300]\",\"[4,600]\",\"[8,1200]\",\"[16,2400]\",\"[32,4800]\"], figure_kw=dict(figsize=(7,4.5)), save_kw=dict(fname=\"images/plot_avg_queue_length_75.pdf\", bbox_inches='tight')):\n",
    "    ploter.plot_avg_queue_length(title=None, y_formatter=y_formatter, y_lim=dict(bottom=0, top=8e5), grid=dict(visible=True, axis='y', linestyle=':'))\n",
    "with ploter.context(params=[\"[2,400]\",\"[4,800]\",\"[8,1600]\",\"[16,3200]\",\"[32,6400]\"], figure_kw=dict(figsize=(7,4.5)), save_kw=dict(fname=\"images/plot_avg_queue_length_100.pdf\", bbox_inches='tight')):\n",
    "    ploter.plot_avg_queue_length(title=None, y_formatter=y_formatter, legend=dict(ncol=2), y_lim=dict(bottom=0, top=1.6e6), grid=dict(visible=True, axis='y', linestyle=':'))"
   ]
  },
  {
   "cell_type": "code",
   "execution_count": null,
   "metadata": {},
   "outputs": [],
   "source": [
    "with ploter.context(params=[\"[2,200]\",\"[4,400]\",\"[8,800]\",\"[16,1600]\",\"[32,3200]\"], figure_kw=dict(figsize=(7,4.5)), save_kw=dict(fname=\"images/plot_queue_length_std_50.pdf\", bbox_inches='tight')):\n",
    "    ploter.plot_queue_length_std(title=None, grid=dict(visible=True, axis='y', linestyle=':'))\n",
    "with ploter.context(params=[\"[2,300]\",\"[4,600]\",\"[8,1200]\",\"[16,2400]\",\"[32,4800]\"], figure_kw=dict(figsize=(7,4.5)), save_kw=dict(fname=\"images/plot_queue_length_std_75.pdf\", bbox_inches='tight')):\n",
    "    ploter.plot_queue_length_std(title=None, grid=dict(visible=True, axis='y', linestyle=':'))\n",
    "with ploter.context(params=[\"[2,400]\",\"[4,800]\",\"[8,1600]\",\"[16,3200]\",\"[32,6400]\"], figure_kw=dict(figsize=(7,4.5)), save_kw=dict(fname=\"images/plot_queue_length_std_100.pdf\", bbox_inches='tight')):\n",
    "    ploter.plot_queue_length_std(title=None, grid=dict(visible=True, axis='y', linestyle=':'))"
   ]
  }
 ],
 "metadata": {
  "kernelspec": {
   "display_name": "arrl",
   "language": "python",
   "name": "python3"
  },
  "language_info": {
   "codemirror_mode": {
    "name": "ipython",
    "version": 3
   },
   "file_extension": ".py",
   "mimetype": "text/x-python",
   "name": "python",
   "nbconvert_exporter": "python",
   "pygments_lexer": "ipython3",
   "version": "3.10.9"
  },
  "orig_nbformat": 4
 },
 "nbformat": 4,
 "nbformat_minor": 2
}
